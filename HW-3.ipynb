{
 "cells": [
  {
   "cell_type": "code",
   "execution_count": 104,
   "metadata": {},
   "outputs": [],
   "source": [
    "import numpy as np\n",
    "import pandas as pd\n",
    "from pprint import pprint\n",
    "\n",
    "# Gensim\n",
    "import gensim\n",
    "import gensim.corpora as corpora\n",
    "from gensim.utils import simple_preprocess\n",
    "from gensim.models import CoherenceModel\n",
    "\n",
    "# spacy for lemmatization\n",
    "import spacy\n",
    "\n",
    "# Plotting tools\n",
    "import pyLDAvis\n",
    "import pyLDAvis.gensim  # don't skip this\n",
    "import matplotlib.pyplot as plt\n",
    "\n",
    "import logging\n",
    "logging.basicConfig(format='%(asctime)s : %(levelname)s : %(message)s', level=logging.ERROR)\n",
    "\n",
    "import warnings\n",
    "warnings.filterwarnings(\"ignore\",category=DeprecationWarning)\n",
    "\n",
    "from collections import Counter"
   ]
  },
  {
   "cell_type": "code",
   "execution_count": 20,
   "metadata": {},
   "outputs": [],
   "source": [
    "import nltk\n",
    "from nltk.corpus import stopwords\n",
    "stop_words = stopwords.words('english')\n",
    "stop_words.extend(['from', 'subject', 're', 'edu', 'use'])"
   ]
  },
  {
   "cell_type": "code",
   "execution_count": 6,
   "metadata": {},
   "outputs": [
    {
     "name": "stdout",
     "output_type": "stream",
     "text": [
      "['rec.autos' 'comp.sys.mac.hardware' 'comp.graphics' 'sci.space'\n",
      " 'talk.politics.guns' 'sci.med' 'comp.sys.ibm.pc.hardware'\n",
      " 'comp.os.ms-windows.misc' 'rec.motorcycles' 'talk.religion.misc'\n",
      " 'misc.forsale' 'alt.atheism' 'sci.electronics' 'comp.windows.x'\n",
      " 'rec.sport.hockey' 'rec.sport.baseball' 'soc.religion.christian'\n",
      " 'talk.politics.mideast' 'talk.politics.misc' 'sci.crypt']\n"
     ]
    },
    {
     "data": {
      "text/html": [
       "<div>\n",
       "<style scoped>\n",
       "    .dataframe tbody tr th:only-of-type {\n",
       "        vertical-align: middle;\n",
       "    }\n",
       "\n",
       "    .dataframe tbody tr th {\n",
       "        vertical-align: top;\n",
       "    }\n",
       "\n",
       "    .dataframe thead th {\n",
       "        text-align: right;\n",
       "    }\n",
       "</style>\n",
       "<table border=\"1\" class=\"dataframe\">\n",
       "  <thead>\n",
       "    <tr style=\"text-align: right;\">\n",
       "      <th></th>\n",
       "      <th>content</th>\n",
       "      <th>target</th>\n",
       "      <th>target_names</th>\n",
       "    </tr>\n",
       "  </thead>\n",
       "  <tbody>\n",
       "    <tr>\n",
       "      <th>0</th>\n",
       "      <td>From: lerxst@wam.umd.edu (where's my thing)\\nS...</td>\n",
       "      <td>7</td>\n",
       "      <td>rec.autos</td>\n",
       "    </tr>\n",
       "    <tr>\n",
       "      <th>1</th>\n",
       "      <td>From: guykuo@carson.u.washington.edu (Guy Kuo)...</td>\n",
       "      <td>4</td>\n",
       "      <td>comp.sys.mac.hardware</td>\n",
       "    </tr>\n",
       "    <tr>\n",
       "      <th>2</th>\n",
       "      <td>From: twillis@ec.ecn.purdue.edu (Thomas E Will...</td>\n",
       "      <td>4</td>\n",
       "      <td>comp.sys.mac.hardware</td>\n",
       "    </tr>\n",
       "    <tr>\n",
       "      <th>3</th>\n",
       "      <td>From: jgreen@amber (Joe Green)\\nSubject: Re: W...</td>\n",
       "      <td>1</td>\n",
       "      <td>comp.graphics</td>\n",
       "    </tr>\n",
       "    <tr>\n",
       "      <th>4</th>\n",
       "      <td>From: jcm@head-cfa.harvard.edu (Jonathan McDow...</td>\n",
       "      <td>14</td>\n",
       "      <td>sci.space</td>\n",
       "    </tr>\n",
       "  </tbody>\n",
       "</table>\n",
       "</div>"
      ],
      "text/plain": [
       "                                             content  target  \\\n",
       "0  From: lerxst@wam.umd.edu (where's my thing)\\nS...       7   \n",
       "1  From: guykuo@carson.u.washington.edu (Guy Kuo)...       4   \n",
       "2  From: twillis@ec.ecn.purdue.edu (Thomas E Will...       4   \n",
       "3  From: jgreen@amber (Joe Green)\\nSubject: Re: W...       1   \n",
       "4  From: jcm@head-cfa.harvard.edu (Jonathan McDow...      14   \n",
       "\n",
       "            target_names  \n",
       "0              rec.autos  \n",
       "1  comp.sys.mac.hardware  \n",
       "2  comp.sys.mac.hardware  \n",
       "3          comp.graphics  \n",
       "4              sci.space  "
      ]
     },
     "execution_count": 6,
     "metadata": {},
     "output_type": "execute_result"
    }
   ],
   "source": [
    "df = pd.read_json('https://raw.githubusercontent.com/selva86/datasets/master/newsgroups.json')\n",
    "#print(df.target_names.unique())\n",
    "#df.head()"
   ]
  },
  {
   "cell_type": "code",
   "execution_count": 9,
   "metadata": {},
   "outputs": [
    {
     "name": "stdout",
     "output_type": "stream",
     "text": [
      "['From: (wheres my thing) Subject: WHAT car is this!? Nntp-Posting-Host: '\n",
      " 'rac3.wam.umd.edu Organization: University of Maryland, College Park Lines: '\n",
      " '15 I was wondering if anyone out there could enlighten me on this car I saw '\n",
      " 'the other day. It was a 2-door sports car, looked to be from the late 60s/ '\n",
      " 'early 70s. It was called a Bricklin. The doors were really small. In '\n",
      " 'addition, the front bumper was separate from the rest of the body. This is '\n",
      " 'all I know. If anyone can tellme a model name, engine specs, years of '\n",
      " 'production, where this car is made, history, or whatever info you have on '\n",
      " 'this funky looking car, please e-mail. Thanks, - IL ---- brought to you by '\n",
      " 'your neighborhood Lerxst ---- ']\n"
     ]
    }
   ],
   "source": [
    "import re\n",
    "\n",
    "data = df.content.values.tolist()\n",
    "\n",
    "data = [re.sub('\\S*@\\S*\\s?', '', sent) for sent in data]\n",
    "\n",
    "data = [re.sub('\\s+', ' ', sent) for sent in data]\n",
    "\n",
    "data = [re.sub(\"\\'\", \"\", sent) for sent in data]\n",
    "\n",
    "#pprint(data[:1])"
   ]
  },
  {
   "cell_type": "code",
   "execution_count": 10,
   "metadata": {},
   "outputs": [
    {
     "name": "stdout",
     "output_type": "stream",
     "text": [
      "[['from', 'wheres', 'my', 'thing', 'subject', 'what', 'car', 'is', 'this', 'nntp', 'posting', 'host', 'rac', 'wam', 'umd', 'edu', 'organization', 'university', 'of', 'maryland', 'college', 'park', 'lines', 'was', 'wondering', 'if', 'anyone', 'out', 'there', 'could', 'enlighten', 'me', 'on', 'this', 'car', 'saw', 'the', 'other', 'day', 'it', 'was', 'door', 'sports', 'car', 'looked', 'to', 'be', 'from', 'the', 'late', 'early', 'it', 'was', 'called', 'bricklin', 'the', 'doors', 'were', 'really', 'small', 'in', 'addition', 'the', 'front', 'bumper', 'was', 'separate', 'from', 'the', 'rest', 'of', 'the', 'body', 'this', 'is', 'all', 'know', 'if', 'anyone', 'can', 'tellme', 'model', 'name', 'engine', 'specs', 'years', 'of', 'production', 'where', 'this', 'car', 'is', 'made', 'history', 'or', 'whatever', 'info', 'you', 'have', 'on', 'this', 'funky', 'looking', 'car', 'please', 'mail', 'thanks', 'il', 'brought', 'to', 'you', 'by', 'your', 'neighborhood', 'lerxst']]\n"
     ]
    }
   ],
   "source": [
    "def sent_to_words(sentences):\n",
    "    for sentence in sentences:\n",
    "        yield(gensim.utils.simple_preprocess(str(sentence), deacc=True))  # deacc=True removes punctuations\n",
    "\n",
    "data_words = list(sent_to_words(data))\n",
    "\n",
    "#print(data_words[:1])"
   ]
  },
  {
   "cell_type": "code",
   "execution_count": 12,
   "metadata": {},
   "outputs": [
    {
     "name": "stdout",
     "output_type": "stream",
     "text": [
      "[['from', 'wheres', 'my', 'thing', 'subject', 'what', 'car', 'is', 'this', 'nntp', 'posting', 'host', 'rac', 'wam', 'umd', 'edu', 'organization', 'university', 'of', 'maryland', 'college', 'park', 'lines', 'was', 'wondering', 'if', 'anyone', 'out', 'there', 'could', 'enlighten', 'me', 'on', 'this', 'car', 'saw', 'the', 'other', 'day', 'it', 'was', 'door', 'sports', 'car', 'looked', 'to', 'be', 'from', 'the', 'late', 'early', 'it', 'was', 'called', 'bricklin', 'the', 'doors', 'were', 'really', 'small', 'in', 'addition', 'the', 'front', 'bumper', 'was', 'separate', 'from', 'the', 'rest', 'of', 'the', 'body', 'this', 'is', 'all', 'know', 'if', 'anyone', 'can', 'tellme', 'model', 'name', 'engine', 'specs', 'years', 'of', 'production', 'where', 'this', 'car', 'is', 'made', 'history', 'or', 'whatever', 'info', 'you', 'have', 'on', 'this', 'funky', 'looking', 'car', 'please', 'mail', 'thanks', 'il', 'brought', 'to', 'you', 'by', 'your', 'neighborhood', 'lerxst']]\n"
     ]
    }
   ],
   "source": [
    "def sent_to_words(sentences):\n",
    "    for sentence in sentences:\n",
    "        yield(gensim.utils.simple_preprocess(str(sentence), deacc=True))  # deacc=True removes punctuations\n",
    "\n",
    "data_words = list(sent_to_words(data))\n",
    "\n",
    "#print(data_words[:1])"
   ]
  },
  {
   "cell_type": "code",
   "execution_count": 21,
   "metadata": {},
   "outputs": [
    {
     "name": "stdout",
     "output_type": "stream",
     "text": [
      "['from', 'wheres', 'my', 'thing', 'subject', 'what', 'car', 'is', 'this', 'nntp_posting_host', 'rac_wam_umd_edu', 'organization', 'university', 'of', 'maryland_college_park', 'lines', 'was', 'wondering', 'if', 'anyone', 'out', 'there', 'could', 'enlighten', 'me', 'on', 'this', 'car', 'saw', 'the', 'other', 'day', 'it', 'was', 'door', 'sports', 'car', 'looked', 'to', 'be', 'from', 'the', 'late', 'early', 'it', 'was', 'called', 'bricklin', 'the', 'doors', 'were', 'really', 'small', 'in', 'addition', 'the', 'front_bumper', 'was', 'separate', 'from', 'the', 'rest', 'of', 'the', 'body', 'this', 'is', 'all', 'know', 'if', 'anyone', 'can', 'tellme', 'model', 'name', 'engine', 'specs', 'years', 'of', 'production', 'where', 'this', 'car', 'is', 'made', 'history', 'or', 'whatever', 'info', 'you', 'have', 'on', 'this', 'funky', 'looking', 'car', 'please', 'mail', 'thanks', 'il', 'brought', 'to', 'you', 'by', 'your', 'neighborhood', 'lerxst']\n"
     ]
    }
   ],
   "source": [
    "# Build the bigram and trigram models\n",
    "bigram = gensim.models.Phrases(data_words, min_count=5, threshold=100) # higher threshold fewer phrases.\n",
    "trigram = gensim.models.Phrases(bigram[data_words], threshold=100)  \n",
    "\n",
    "# Faster way to get a sentence clubbed as a trigram/bigram\n",
    "bigram_mod = gensim.models.phrases.Phraser(bigram)\n",
    "trigram_mod = gensim.models.phrases.Phraser(trigram)\n",
    "\n",
    "# See trigram example\n",
    "#print(trigram_mod[bigram_mod[data_words[0]]])"
   ]
  },
  {
   "cell_type": "code",
   "execution_count": 22,
   "metadata": {},
   "outputs": [],
   "source": [
    "def remove_stopwords(texts):\n",
    "    return [[word for word in simple_preprocess(str(doc)) if word not in stop_words] for doc in texts]\n",
    "\n",
    "def make_bigrams(texts):\n",
    "    return [bigram_mod[doc] for doc in texts]\n",
    "\n",
    "def make_trigrams(texts):\n",
    "    return [trigram_mod[bigram_mod[doc]] for doc in texts]\n",
    "\n",
    "def lemmatization(texts, allowed_postags=['NOUN', 'ADJ', 'VERB', 'ADV']):pyLDAvis.enable_notebook()\n",
    "vis = pyLDAvis.gensim.prepare(lda_model, corpus, id2word)\n",
    "vis\n",
    "    texts_out = []\n",
    "    for sent in texts:\n",
    "        doc = nlp(\" \".join(sent)) \n",
    "        texts_out.append([token.lemma_ for token in doc if token.pos_ in allowed_postags])\n",
    "    return texts_out"
   ]
  },
  {
   "cell_type": "code",
   "execution_count": 23,
   "metadata": {},
   "outputs": [
    {
     "name": "stdout",
     "output_type": "stream",
     "text": [
      "[['where', 'thing', 'car', 'nntp_poste', 'host', 'park', 'line', 'wonder', 'could', 'enlighten', 'car', 'see', 'day', 'door', 'sport', 'car', 'look', 'late', 'early', 'call', 'door', 'really', 'small', 'addition', 'separate', 'rest', 'body', 'know', 'model', 'name', 'engine', 'spec', 'year', 'production', 'car', 'make', 'history', 'info', 'funky', 'look', 'car', 'mail', 'thank', 'bring', 'neighborhood', 'lerxst']]\n"
     ]
    }
   ],
   "source": [
    "# Remove Stop Words\n",
    "data_words_nostops = remove_stopwords(data_words)\n",
    "\n",
    "# Form Bigrams\n",
    "data_words_bigrams = make_bigrams(data_words_nostops)\n",
    "\n",
    "# Initialize spacy 'en' model, keeping only tagger component (for efficiency)\n",
    "# python3 -m spacy download en\n",
    "nlp = spacy.load('en', disable=['parser', 'ner'])\n",
    "\n",
    "# Do lemmatization keeping only noun, adj, vb, adv\n",
    "data_lemmatized = lemmatization(data_words_bigrams, allowed_postags=['NOUN', 'ADJ', 'VERB', 'ADV'])\n",
    "\n",
    "#print(data_lemmatized[:1])"
   ]
  },
  {
   "cell_type": "code",
   "execution_count": 24,
   "metadata": {},
   "outputs": [
    {
     "name": "stdout",
     "output_type": "stream",
     "text": [
      "[[(0, 1), (1, 1), (2, 1), (3, 1), (4, 5), (5, 1), (6, 1), (7, 2), (8, 1), (9, 1), (10, 1), (11, 1), (12, 1), (13, 1), (14, 1), (15, 1), (16, 1), (17, 1), (18, 1), (19, 2), (20, 1), (21, 1), (22, 1), (23, 1), (24, 1), (25, 1), (26, 1), (27, 1), (28, 1), (29, 1), (30, 1), (31, 1), (32, 1), (33, 1), (34, 1), (35, 1), (36, 1), (37, 1), (38, 1), (39, 1)]]\n"
     ]
    }
   ],
   "source": [
    "# Create Dictionary\n",
    "id2word = corpora.Dictionary(data_lemmatized)\n",
    "\n",
    "# Create Corpus\n",
    "texts = data_lemmatized\n",
    "\n",
    "# Term Document Frequency\n",
    "corpus = [id2word.doc2bow(text) for text in texts]\n",
    "\n",
    "# View\n",
    "#print(corpus[:1])"
   ]
  },
  {
   "cell_type": "code",
   "execution_count": 25,
   "metadata": {},
   "outputs": [
    {
     "data": {
      "text/plain": [
       "[[('addition', 1),\n",
       "  ('body', 1),\n",
       "  ('bring', 1),\n",
       "  ('call', 1),\n",
       "  ('car', 5),\n",
       "  ('could', 1),\n",
       "  ('day', 1),\n",
       "  ('door', 2),\n",
       "  ('early', 1),\n",
       "  ('engine', 1),\n",
       "  ('enlighten', 1),\n",
       "  ('funky', 1),\n",
       "  ('history', 1),\n",
       "  ('host', 1),\n",
       "  ('info', 1),\n",
       "  ('know', 1),\n",
       "  ('late', 1),\n",
       "  ('lerxst', 1),\n",
       "  ('line', 1),\n",
       "  ('look', 2),\n",
       "  ('mail', 1),\n",
       "  ('make', 1),\n",
       "  ('model', 1),\n",
       "  ('name', 1),\n",
       "  ('neighborhood', 1),\n",
       "  ('nntp_poste', 1),\n",
       "  ('park', 1),\n",
       "  ('production', 1),\n",
       "  ('really', 1),\n",
       "  ('rest', 1),\n",
       "  ('see', 1),\n",
       "  ('separate', 1),\n",
       "  ('small', 1),\n",
       "  ('spec', 1),\n",
       "  ('sport', 1),\n",
       "  ('thank', 1),\n",
       "  ('thing', 1),\n",
       "  ('where', 1),\n",
       "  ('wonder', 1),\n",
       "  ('year', 1)]]"
      ]
     },
     "execution_count": 25,
     "metadata": {},
     "output_type": "execute_result"
    }
   ],
   "source": [
    "#[[(id2word[id], freq) for id, freq in cp] for cp in corpus[:1]]"
   ]
  },
  {
   "cell_type": "code",
   "execution_count": 39,
   "metadata": {},
   "outputs": [],
   "source": [
    "#lda_model = gensim.models.ldamodel.LdaModel(corpus=corpus,\n",
    "                                           id2word=id2word,\n",
    "                                           num_topics=20, \n",
    "                                           random_state=100,\n",
    "                                           update_every=1,\n",
    "                                           chunksize=100,\n",
    "                                           passes=10,\n",
    "                                           alpha='auto',\n",
    "                                           per_word_topics=True)"
   ]
  },
  {
   "cell_type": "code",
   "execution_count": 40,
   "metadata": {},
   "outputs": [
    {
     "name": "stdout",
     "output_type": "stream",
     "text": [
      "[(0,\n",
      "  '0.175*\"file\" + 0.073*\"entry\" + 0.057*\"error\" + 0.053*\"display\" + '\n",
      "  '0.040*\"program\" + 0.030*\"sun\" + 0.025*\"version\" + 0.024*\"cool\" + '\n",
      "  '0.020*\"output\" + 0.020*\"crash\"'),\n",
      " (1,\n",
      "  '0.032*\"would\" + 0.026*\"say\" + 0.022*\"think\" + 0.022*\"people\" + 0.020*\"go\" + '\n",
      "  '0.018*\"know\" + 0.016*\"make\" + 0.016*\"see\" + 0.014*\"come\" + 0.013*\"thing\"'),\n",
      " (2,\n",
      "  '0.091*\"evidence\" + 0.048*\"book\" + 0.041*\"faith\" + 0.037*\"reason\" + '\n",
      "  '0.033*\"exist\" + 0.032*\"claim\" + 0.031*\"religion\" + 0.029*\"believe\" + '\n",
      "  '0.027*\"christian\" + 0.023*\"church\"'),\n",
      " (3,\n",
      "  '0.541*\"ax\" + 0.054*\"car\" + 0.028*\"player\" + 0.014*\"engine\" + 0.009*\"dealer\" '\n",
      "  '+ 0.009*\"mile\" + 0.009*\"expensive\" + 0.009*\"here\" + 0.008*\"extra\" + '\n",
      "  '0.008*\"specify\"'),\n",
      " (4,\n",
      "  '0.087*\"belief\" + 0.084*\"internet\" + 0.079*\"atheist\" + 0.061*\"distribution\" '\n",
      "  '+ 0.053*\"wing\" + 0.041*\"atheism\" + 0.038*\"printer\" + 0.034*\"interface\" + '\n",
      "  '0.026*\"multiple\" + 0.020*\"thinking\"'),\n",
      " (5,\n",
      "  '0.088*\"normal\" + 0.072*\"port\" + 0.071*\"mouse\" + 0.053*\"hole\" + 0.036*\"cap\" '\n",
      "  '+ 0.034*\"expansion\" + 0.033*\"default\" + 0.026*\"compute\" + 0.026*\"noise\" + '\n",
      "  '0.013*\"characteristic\"'),\n",
      " (6,\n",
      "  '0.034*\"include\" + 0.023*\"provide\" + 0.023*\"report\" + 0.021*\"receive\" + '\n",
      "  '0.021*\"follow\" + 0.021*\"name\" + 0.018*\"build\" + 0.017*\"return\" + '\n",
      "  '0.015*\"open\" + 0.014*\"suggest\"'),\n",
      " (7,\n",
      "  '0.123*\"chip\" + 0.074*\"bit\" + 0.072*\"speed\" + 0.060*\"device\" + 0.058*\"tape\" '\n",
      "  '+ 0.052*\"slow\" + 0.040*\"bus\" + 0.038*\"scsi\" + 0.037*\"direct\" + '\n",
      "  '0.036*\"mode\"'),\n",
      " (8,\n",
      "  '0.152*\"team\" + 0.103*\"play\" + 0.059*\"year\" + 0.053*\"season\" + 0.045*\"fan\" + '\n",
      "  '0.036*\"trade\" + 0.026*\"pen\" + 0.023*\"lose\" + 0.021*\"last\" + 0.016*\"next\"'),\n",
      " (9,\n",
      "  '0.021*\"year\" + 0.016*\"also\" + 0.014*\"may\" + 0.014*\"first\" + 0.011*\"work\" + '\n",
      "  '0.010*\"high\" + 0.010*\"talk\" + 0.009*\"make\" + 0.009*\"case\" + 0.009*\"power\"'),\n",
      " (10,\n",
      "  '0.052*\"system\" + 0.050*\"drive\" + 0.041*\"use\" + 0.038*\"run\" + '\n",
      "  '0.034*\"problem\" + 0.028*\"window\" + 0.027*\"card\" + 0.024*\"program\" + '\n",
      "  '0.021*\"driver\" + 0.021*\"software\"'),\n",
      " (11,\n",
      "  '0.085*\"space\" + 0.053*\"science\" + 0.024*\"scientific\" + 0.024*\"review\" + '\n",
      "  '0.023*\"orbit\" + 0.023*\"launch\" + 0.022*\"earth\" + 0.021*\"mission\" + '\n",
      "  '0.020*\"development\" + 0.019*\"vehicle\"'),\n",
      " (12,\n",
      "  '0.140*\"game\" + 0.116*\"gun\" + 0.070*\"win\" + 0.048*\"fire\" + 0.047*\"hit\" + '\n",
      "  '0.036*\"weapon\" + 0.035*\"shoot\" + 0.024*\"cop\" + 0.019*\"run\" + 0.017*\"carry\"'),\n",
      " (13,\n",
      "  '0.124*\"god\" + 0.110*\"patient\" + 0.054*\"license\" + 0.050*\"univ\" + '\n",
      "  '0.048*\"treatment\" + 0.042*\"disease\" + 0.035*\"medical\" + 0.033*\"health\" + '\n",
      "  '0.027*\"ticket\" + 0.020*\"deliver\"'),\n",
      " (14,\n",
      "  '0.040*\"kill\" + 0.030*\"israeli\" + 0.028*\"war\" + 0.027*\"soldier\" + '\n",
      "  '0.024*\"attack\" + 0.024*\"village\" + 0.023*\"child\" + 0.021*\"murder\" + '\n",
      "  '0.016*\"turkish\" + 0.016*\"force\"'),\n",
      " (15,\n",
      "  '0.098*\"goal\" + 0.077*\"moral\" + 0.059*\"animal\" + 0.046*\"link\" + '\n",
      "  '0.034*\"morality\" + 0.029*\"warrant\" + 0.028*\"scale\" + 0.027*\"relationship\" + '\n",
      "  '0.026*\"depth\" + 0.024*\"percentage\"'),\n",
      " (16,\n",
      "  '0.049*\"image\" + 0.046*\"color\" + 0.040*\"code\" + 0.038*\"source\" + 0.038*\"com\" '\n",
      "  '+ 0.031*\"available\" + 0.030*\"server\" + 0.028*\"format\" + 0.026*\"function\" + '\n",
      "  '0.024*\"information\"'),\n",
      " (17,\n",
      "  '0.111*\"motif\" + 0.067*\"session\" + 0.048*\"unknown\" + 0.028*\"moslem\" + '\n",
      "  '0.021*\"ruin\" + 0.020*\"testing\" + 0.019*\"ratio\" + 0.017*\"okay\" + '\n",
      "  '0.005*\"verification\" + 0.005*\"automate\"'),\n",
      " (18,\n",
      "  '0.074*\"line\" + 0.047*\"write\" + 0.030*\"article\" + 0.024*\"host\" + '\n",
      "  '0.022*\"nntp_poste\" + 0.022*\"organization\" + 0.021*\"get\" + 0.019*\"be\" + '\n",
      "  '0.016*\"need\" + 0.014*\"thank\"'),\n",
      " (19,\n",
      "  '0.030*\"key\" + 0.027*\"state\" + 0.021*\"law\" + 0.020*\"government\" + '\n",
      "  '0.018*\"issue\" + 0.017*\"public\" + 0.014*\"right\" + 0.013*\"use\" + '\n",
      "  '0.011*\"system\" + 0.010*\"case\"')]\n"
     ]
    }
   ],
   "source": [
    "#pprint(lda_model.print_topics())\n",
    "#doc_lda = lda_model[corpus]"
   ]
  },
  {
   "cell_type": "code",
   "execution_count": 30,
   "metadata": {},
   "outputs": [
    {
     "name": "stdout",
     "output_type": "stream",
     "text": [
      "\n",
      "Coherence Score:  0.49288861569721343\n"
     ]
    }
   ],
   "source": [
    "#coherence_model_lda = CoherenceModel(model=lda_model, texts=data_lemmatized, dictionary=id2word, coherence='c_v')\n",
    "#coherence_lda = coherence_model_lda.get_coherence()\n",
    "#print('\\nCoherence Score: ', coherence_lda)"
   ]
  },
  {
   "cell_type": "markdown",
   "metadata": {},
   "source": [
    "С помощью Coherence Score найдем самое оптимальное количество топиков"
   ]
  },
  {
   "cell_type": "code",
   "execution_count": 78,
   "metadata": {},
   "outputs": [],
   "source": [
    "def optimal_topics(corpus):\n",
    "    d_coh = {}\n",
    "    dic = {}\n",
    "    list = []\n",
    "    for x in range(5,30,5):\n",
    "        lda_model = gensim.models.ldamodel.LdaModel(corpus=corpus,\n",
    "                                                   id2word=id2word,\n",
    "                                                   num_topics=x, \n",
    "                                                   random_state=100,\n",
    "                                                   update_every=1,\n",
    "                                                   chunksize=100,\n",
    "                                                   passes=10,\n",
    "                                                   alpha='auto',\n",
    "                                                   per_word_topics=True)\n",
    "        coherence_model_lda = CoherenceModel(model=lda_model, texts=data_lemmatized, dictionary=id2word, coherence='c_v')\n",
    "        coherence_lda = coherence_model_lda.get_coherence()\n",
    "        d_coh[x] = coherence_lda\n",
    "        dic[x] = lda_model\n",
    "    opt_key = ''\n",
    "    bgst_value = max(d_coh.values())\n",
    "    for key, value in d_coh.items():\n",
    "        if value == bgst_value:\n",
    "            opt_key=key\n",
    "    print(opt_key)\n",
    "    \n",
    "    return dic[opt_key]"
   ]
  },
  {
   "cell_type": "code",
   "execution_count": 79,
   "metadata": {},
   "outputs": [
    {
     "name": "stdout",
     "output_type": "stream",
     "text": [
      "5\n"
     ]
    }
   ],
   "source": [
    "model = optimal_topics(corpus)"
   ]
  },
  {
   "cell_type": "code",
   "execution_count": 92,
   "metadata": {},
   "outputs": [],
   "source": [
    "def topics(lda_model):\n",
    "    topics = []\n",
    "    for index, topic in lda_model.show_topics(formatted=False):\n",
    "        topic = [(w[0], w[1]) for w in topic]\n",
    "        topics.append(topic)\n",
    "    return topics"
   ]
  },
  {
   "cell_type": "code",
   "execution_count": 93,
   "metadata": {},
   "outputs": [
    {
     "data": {
      "text/plain": [
       "[[('use', 0.013187293),\n",
       "  ('line', 0.013174197),\n",
       "  ('system', 0.010995869),\n",
       "  ('key', 0.009886453),\n",
       "  ('program', 0.009031713),\n",
       "  ('file', 0.008469775),\n",
       "  ('drive', 0.0073234523),\n",
       "  ('thank', 0.0070204027),\n",
       "  ('need', 0.006999185),\n",
       "  ('window', 0.0065738764)],\n",
       " [('people', 0.012603494),\n",
       "  ('would', 0.012485615),\n",
       "  ('say', 0.010694776),\n",
       "  ('write', 0.0101965545),\n",
       "  ('may', 0.007930024),\n",
       "  ('think', 0.0077665336),\n",
       "  ('make', 0.007593628),\n",
       "  ('know', 0.006805669),\n",
       "  ('believe', 0.0062016756),\n",
       "  ('reason', 0.006120953)],\n",
       " [('say', 0.0076282094),\n",
       "  ('kill', 0.007296844),\n",
       "  ('child', 0.0065105483),\n",
       "  ('people', 0.0065052314),\n",
       "  ('patient', 0.006161228),\n",
       "  ('report', 0.004897367),\n",
       "  ('go', 0.0048730713),\n",
       "  ('take', 0.00468903),\n",
       "  ('israeli', 0.0046651657),\n",
       "  ('fire', 0.0046156594)],\n",
       " [('line', 0.020326914),\n",
       "  ('write', 0.014644849),\n",
       "  ('would', 0.012014082),\n",
       "  ('be', 0.011309602),\n",
       "  ('go', 0.010927549),\n",
       "  ('get', 0.010409032),\n",
       "  ('article', 0.009469432),\n",
       "  ('good', 0.0087247435),\n",
       "  ('nntp_poste', 0.008380527),\n",
       "  ('host', 0.008254243)],\n",
       " [('ax', 0.6322042),\n",
       "  ('rlk', 0.0024769674),\n",
       "  ('lq', 0.0022014738),\n",
       "  ('oo', 0.0016298443),\n",
       "  ('chz', 0.0014686245),\n",
       "  ('um_um', 0.0014395232),\n",
       "  ('mh', 0.0013239523),\n",
       "  ('tdo', 0.0010505726),\n",
       "  ('tq', 0.0010405008),\n",
       "  ('dw', 0.0008457995)]]"
      ]
     },
     "execution_count": 93,
     "metadata": {},
     "output_type": "execute_result"
    }
   ],
   "source": [
    "topics(model)"
   ]
  },
  {
   "cell_type": "code",
   "execution_count": 118,
   "metadata": {},
   "outputs": [],
   "source": [
    "def define_topic(text, topics):\n",
    "    count = {}\n",
    "    for n in range(5):\n",
    "        count[n] = 0\n",
    "        \n",
    "    for word in text:\n",
    "        for topic in topics:\n",
    "            for word_weight in topic:\n",
    "                if word in word_weight:\n",
    "                    count[topics.index(topic)] += word_weight[1]\n",
    "    \n",
    "    main_topic = 0\n",
    "    bgst = 0\n",
    "    for topic in count:\n",
    "        if count[topic] > bgst:\n",
    "            bgdt = count[topic]\n",
    "            main_topic = topic\n",
    "                    \n",
    "    return main_topic"
   ]
  },
  {
   "cell_type": "code",
   "execution_count": 119,
   "metadata": {},
   "outputs": [
    {
     "data": {
      "text/plain": [
       "3"
      ]
     },
     "execution_count": 119,
     "metadata": {},
     "output_type": "execute_result"
    }
   ],
   "source": [
    "define_topic(texts[456], topics(model))"
   ]
  },
  {
   "cell_type": "code",
   "execution_count": 122,
   "metadata": {},
   "outputs": [
    {
     "data": {
      "text/plain": [
       "169"
      ]
     },
     "execution_count": 122,
     "metadata": {},
     "output_type": "execute_result"
    }
   ],
   "source": [
    "n = 0\n",
    "for text in texts:\n",
    "    if define_topic(text, topics(model)) != 3:\n",
    "        n += 1\n",
    "n"
   ]
  }
 ],
 "metadata": {
  "kernelspec": {
   "display_name": "Python 3",
   "language": "python",
   "name": "python3"
  },
  "language_info": {
   "codemirror_mode": {
    "name": "ipython",
    "version": 3
   },
   "file_extension": ".py",
   "mimetype": "text/x-python",
   "name": "python",
   "nbconvert_exporter": "python",
   "pygments_lexer": "ipython3",
   "version": "3.7.4"
  }
 },
 "nbformat": 4,
 "nbformat_minor": 2
}
